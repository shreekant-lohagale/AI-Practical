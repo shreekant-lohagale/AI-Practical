{
  "cells": [
    {
      "cell_type": "markdown",
      "metadata": {
        "id": "view-in-github",
        "colab_type": "text"
      },
      "source": [
        "<a href=\"https://colab.research.google.com/github/shreekant-lohagale/AI-Practical/blob/main/Puzzle_Problem.ipynb\" target=\"_parent\"><img src=\"https://colab.research.google.com/assets/colab-badge.svg\" alt=\"Open In Colab\"/></a>"
      ]
    },
    {
      "cell_type": "code",
      "execution_count": null,
      "id": "91c96e38-8cae-4ba2-b6aa-833547656d13",
      "metadata": {
        "id": "91c96e38-8cae-4ba2-b6aa-833547656d13"
      },
      "outputs": [],
      "source": [
        "# This function performs a Breadth-First Search (BFS) to solve the 8-puzzle.\n",
        "\n",
        "def bfs(src,target):\n",
        "    # 'queue' is a list used as a queue (First-In, First-Out) to store puzzle states to visit.\n",
        "    queue = []\n",
        "    # Add the starting puzzle state (the source) to the queue.\n",
        "    queue.append(src)\n",
        "    # 'exp' is a list that stores all the states we have already explored.\n",
        "    # This prevents us from visiting the same state multiple times and getting into a loop.\n",
        "    exp = []\n",
        "    # The main loop continues as long as there are states in the queue to process.\n",
        "    while len(queue) > 0:\n",
        "    # Get the next state to explore by removing the first item from the queue.\n",
        "        source = queue.pop(0)\n",
        "    # Mark this state as explored by adding it to the 'exp' list.\n",
        "        exp.append(source)\n",
        "\n",
        "        print(source)\n",
        "\n",
        "        if source==target:\n",
        "            print(\"Sucess\")\n",
        "            return\n",
        "\n",
        "        poss_moves_to_do = []\n",
        "        poss_moves_to_do = possible_moves(source,exp)\n",
        "\n",
        "        for move in poss_moves_to_do:\n",
        "\n",
        "            if move not in exp and move not in queue:\n",
        "                queue.append(move)"
      ]
    },
    {
      "cell_type": "code",
      "execution_count": null,
      "id": "c2ab8b2e-de3e-4054-bffc-f321dbe4d2a5",
      "metadata": {
        "id": "c2ab8b2e-de3e-4054-bffc-f321dbe4d2a5"
      },
      "outputs": [],
      "source": [
        "def possible_moves(state,visited_states):\n",
        "    #index of empty sopt\n",
        "    b = state.index(0)\n",
        "\n",
        "    d = []\n",
        "\n",
        "    if b not in [0,1,2]:\n",
        "        d.append('u')\n",
        "    if b not in [6,7,8]:\n",
        "        d.append('d')\n",
        "    if b not in [0,3,6]:\n",
        "        d.append('l')\n",
        "    if b not in [2,5,8]:\n",
        "        d.append('r')\n",
        "\n",
        "    pos_moves_it_can = []\n",
        "\n",
        "    for i in d:\n",
        "        pos_moves_it_can.append(gen(state,i,b))\n",
        "    return [move_it_can for move_it_can in pos_moves_it_can if move_it_can not in visited_states]\n"
      ]
    },
    {
      "cell_type": "code",
      "execution_count": null,
      "id": "a406e53f-d25c-4a45-a6bf-dac9625fbef7",
      "metadata": {
        "id": "a406e53f-d25c-4a45-a6bf-dac9625fbef7"
      },
      "outputs": [],
      "source": [
        "def gen(state,m,b):\n",
        "    temp = state.copy()\n",
        "\n",
        "    if m == 'd':\n",
        "        temp[b+3],temp[b] = temp[b],temp[b+3]\n",
        "    if m == 'u':\n",
        "        temp[b-3],temp[b] = temp[b],temp[b-3]\n",
        "    if m == 'l':\n",
        "        temp[b-1],temp[b] = temp[b],temp[b-1]\n",
        "    if m == 'r':\n",
        "        temp[b+1],temp[b] = temp[b],temp[b+1]\n",
        "\n",
        "    return temp"
      ]
    },
    {
      "cell_type": "code",
      "execution_count": null,
      "id": "0e1c86b8-2741-48a7-8c60-5a918ce3fc1d",
      "metadata": {
        "id": "0e1c86b8-2741-48a7-8c60-5a918ce3fc1d",
        "outputId": "ba486208-803f-400b-e078-7ebb8076324f"
      },
      "outputs": [
        {
          "name": "stdout",
          "output_type": "stream",
          "text": [
            "[1, 2, 3, 4, 5, 6, 0, 7, 8]\n",
            "[1, 2, 3, 0, 5, 6, 4, 7, 8]\n",
            "[1, 2, 3, 4, 5, 6, 7, 0, 8]\n",
            "[0, 2, 3, 1, 5, 6, 4, 7, 8]\n",
            "[1, 2, 3, 5, 0, 6, 4, 7, 8]\n",
            "[1, 2, 3, 4, 0, 6, 7, 5, 8]\n",
            "[1, 2, 3, 4, 5, 6, 7, 8, 0]\n",
            "Sucess\n"
          ]
        }
      ],
      "source": [
        "src = [1,2,3,4,5,6,0,7,8]\n",
        "target = [1,2,3,4,5,6,7,8,0]\n",
        "bfs(src, target)"
      ]
    },
    {
      "cell_type": "code",
      "execution_count": null,
      "id": "2620448a-0335-40f3-8813-674ef6b8cceb",
      "metadata": {
        "id": "2620448a-0335-40f3-8813-674ef6b8cceb"
      },
      "outputs": [],
      "source": []
    }
  ],
  "metadata": {
    "kernelspec": {
      "display_name": "Python 3 (ipykernel)",
      "language": "python",
      "name": "python3"
    },
    "language_info": {
      "codemirror_mode": {
        "name": "ipython",
        "version": 3
      },
      "file_extension": ".py",
      "mimetype": "text/x-python",
      "name": "python",
      "nbconvert_exporter": "python",
      "pygments_lexer": "ipython3",
      "version": "3.12.4"
    },
    "colab": {
      "provenance": [],
      "include_colab_link": true
    }
  },
  "nbformat": 4,
  "nbformat_minor": 5
}