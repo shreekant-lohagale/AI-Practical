{
  "nbformat": 4,
  "nbformat_minor": 0,
  "metadata": {
    "colab": {
      "provenance": [],
      "authorship_tag": "ABX9TyNwl/izdje544NF0kx2zz2V",
      "include_colab_link": true
    },
    "kernelspec": {
      "name": "python3",
      "display_name": "Python 3"
    },
    "language_info": {
      "name": "python"
    }
  },
  "cells": [
    {
      "cell_type": "markdown",
      "metadata": {
        "id": "view-in-github",
        "colab_type": "text"
      },
      "source": [
        "<a href=\"https://colab.research.google.com/github/shreekant-lohagale/AI-Practical/blob/main/Steepest_hill_climbing(TSP).ipynb\" target=\"_parent\"><img src=\"https://colab.research.google.com/assets/colab-badge.svg\" alt=\"Open In Colab\"/></a>"
      ]
    },
    {
      "cell_type": "markdown",
      "source": [
        "##Name : Shreekant Sunil Lohagale\n",
        "##Year & Div : TY-AIML\n",
        "## Roll No. : 32\n",
        "\n"
      ],
      "metadata": {
        "id": "TZkMFxnu2_oV"
      }
    },
    {
      "cell_type": "code",
      "execution_count": null,
      "metadata": {
        "id": "qefwnqdtzMG3"
      },
      "outputs": [],
      "source": [
        "import random\n",
        "#Function to n calculate total cost of a path\n",
        "def path_cost(graph, path):\n",
        "  cost = 0\n",
        "  n = len(path)\n",
        "  for i in range(n-1):\n",
        "    cost += graph[path[i]][path[i+1]]\n",
        "  cost += graph[path[-1]][path[0]]\n",
        "  return cost"
      ]
    },
    {
      "cell_type": "code",
      "source": [
        "def get_neighbors(path):\n",
        "  neighbors = []\n",
        "  n = len(path)\n",
        "  for i in range(1,n):\n",
        "    for j in range(i + 1, n):\n",
        "      new_path = path[:]\n",
        "      new_path[i], new_path[j] = new_path[j], new_path[i]\n",
        "      neighbors.append(new_path)\n",
        "  return neighbors\n"
      ],
      "metadata": {
        "id": "pTouk-XG4Vbg"
      },
      "execution_count": null,
      "outputs": []
    },
    {
      "cell_type": "code",
      "source": [
        "def steepest_hill_climbing(graph):\n",
        "  n = len(graph)\n",
        "  current_path = list(range(n))\n",
        "  random.shuffle(current_path)\n",
        "  current_cost = path_cost(graph, current_path)\n",
        "  print(\"Inital path :\", current_path, \"Cost :\", current_cost)\n",
        "  while True:\n",
        "    neighbors = get_neighbors(current_path)\n",
        "    best_neighbor = min(neighbors, key=lambda p: path_cost(graph, p))\n",
        "    best_cost = path_cost(graph, best_neighbor)\n",
        "\n",
        "    if best_cost < current_cost:\n",
        "      current_path, current_cost = best_neighbor, best_cost\n",
        "      print(\"Moving to:\", current_path, \"Cost:\", current_cost)\n",
        "    else:\n",
        "      break\n",
        "  return current_path, current_cost"
      ],
      "metadata": {
        "id": "GbzSnbWn6PZx"
      },
      "execution_count": null,
      "outputs": []
    },
    {
      "cell_type": "code",
      "source": [
        "graph = [\n",
        "    [0, 10, 15, 20],\n",
        "    [10, 0, 35, 25],\n",
        "    [15, 35, 0, 30],\n",
        "    [20, 25, 30, 0]\n",
        "]\n",
        "\n",
        "best_path, best_cost = steepest_hill_climbing(graph)\n",
        "print(\"Best path:\", best_path, \"Cost:\", best_cost)"
      ],
      "metadata": {
        "colab": {
          "base_uri": "https://localhost:8080/"
        },
        "id": "m4aCIrqN9tOE",
        "outputId": "3f5e4921-e82b-42df-aa16-5411d2ab932b"
      },
      "execution_count": null,
      "outputs": [
        {
          "output_type": "stream",
          "name": "stdout",
          "text": [
            "Inital path : [1, 0, 2, 3] Cost : 80\n",
            "Best path: [1, 0, 2, 3] Cost: 80\n"
          ]
        }
      ]
    },
    {
      "cell_type": "code",
      "source": [],
      "metadata": {
        "id": "UGQhRbB5-WX7"
      },
      "execution_count": null,
      "outputs": []
    }
  ]
}